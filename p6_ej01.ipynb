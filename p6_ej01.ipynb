{
 "cells": [
  {
   "cell_type": "code",
   "execution_count": 18,
   "metadata": {},
   "outputs": [],
   "source": [
    "import numpy as np\n",
    "import matplotlib.pyplot as plt\n",
    "\n",
    "#dinamica = \"paralela\"\n",
    "dinamica = \"secuencial\"\n",
    "\n",
    "%matplotlib inline"
   ]
  },
  {
   "cell_type": "markdown",
   "metadata": {},
   "source": [
    "#### Entradas"
   ]
  },
  {
   "cell_type": "code",
   "execution_count": 19,
   "metadata": {},
   "outputs": [
    {
     "name": "stdout",
     "output_type": "stream",
     "text": [
      "Cantidad de patrones: 70\n"
     ]
    }
   ],
   "source": [
    "N = 500 #Cantidad de neuronas (500, 1000, 2000, 4000)\n",
    "alfa = 0.14 #(0.12, 0.14, 0.16, 0.18)\n",
    "P = int(N*alfa) #Cantidad de patrones\n",
    "print(\"Cantidad de patrones: \" + str(P))\n",
    "\n",
    "x = np.ones(shape=(P,N), dtype='int')\n",
    "\n",
    "for i in range(P):\n",
    "    for j in range(N):\n",
    "        if(np.random.randint(0, 2) < 1):\n",
    "            x[i][j] = -1"
   ]
  },
  {
   "cell_type": "markdown",
   "metadata": {},
   "source": [
    "#### Conexiones: regla de Hebb"
   ]
  },
  {
   "cell_type": "code",
   "execution_count": 20,
   "metadata": {},
   "outputs": [],
   "source": [
    "w = np.zeros(shape=(N,N))\n",
    "\n",
    "#Sumamos\n",
    "for mu in range(P):\n",
    "    w += np.outer(x[mu], x[mu])\n",
    "\n",
    "#Normalizamos\n",
    "w = w/N\n",
    "\n",
    "#Eliminamos las \"autoconexiones\"\n",
    "for i in range(N):\n",
    "    w[i][i] = 0"
   ]
  },
  {
   "cell_type": "markdown",
   "metadata": {},
   "source": [
    "#### Dinámica determinista\n",
    "##### Paralela"
   ]
  },
  {
   "cell_type": "code",
   "execution_count": 21,
   "metadata": {},
   "outputs": [],
   "source": [
    "if (dinamica==\"paralela\"):\n",
    "    conv = 0 #Contador de veces que convergió\n",
    "    per2 = 0 #Contador de veces que se quedó en ciclo de período 2\n",
    "\n",
    "    for mu in range(P):\n",
    "        s = np.zeros(N, dtype='int')\n",
    "        s_prev = np.zeros(N, dtype='int')\n",
    "        s_2prev = np.zeros(N, dtype='int')\n",
    "\n",
    "        convergencia = False #bandera\n",
    "\n",
    "        mu0 = np.random.randint(P)\n",
    "        s_prev = np.copy(x[mu0])\n",
    "\n",
    "        p = 0 #cantidad de pasos temporales\n",
    "        p_max = 500 #por si falla el loop\n",
    "\n",
    "        while(not convergencia):\n",
    "            p += 1\n",
    "            s = np.sign(np.dot(w, s_prev)).astype('int')\n",
    "            \n",
    "            if(np.array_equal(s, s_prev)):\n",
    "                print(\"Convirgió en \" + str(p) + \" pasos temporales\")\n",
    "                convergencia = True\n",
    "                conv += 1\n",
    "\n",
    "            if(np.array_equal(s, s_2prev)):\n",
    "                print(\"Llegó a un ciclo de período 2 en \" + str(p-1) + \" pasos temporales\")\n",
    "                convergencia = True\n",
    "                per2 += 1\n",
    "\n",
    "            if(p==p_max):\n",
    "                print(\"Llegué al límite - \" + str(p_max) + \" pasos temporales\")\n",
    "                convergencia = True\n",
    "\n",
    "            #Actualizo los estados previos\n",
    "            s_2prev = np.copy(s_prev)\n",
    "            s_prev = np.copy(s)\n",
    "\n",
    "    print(\"Convirgió \" + str(conv) + \" veces\")\n",
    "    print(\"Se quedó en un ciclo de período 2 \" + str(per2) + \" veces\")"
   ]
  },
  {
   "cell_type": "markdown",
   "metadata": {},
   "source": [
    "#### Secuencial + cálculo de overlaps"
   ]
  },
  {
   "cell_type": "code",
   "execution_count": 22,
   "metadata": {},
   "outputs": [
    {
     "name": "stdout",
     "output_type": "stream",
     "text": [
      "Convirgió en 2 pasos temporales\n",
      "Convirgió en 9 pasos temporales\n",
      "Convirgió en 2 pasos temporales\n",
      "Convirgió en 6 pasos temporales\n",
      "Convirgió en 2 pasos temporales\n",
      "Convirgió en 1 pasos temporales\n",
      "Convirgió en 3 pasos temporales\n",
      "Convirgió en 1 pasos temporales\n",
      "Convirgió en 6 pasos temporales\n",
      "Convirgió en 2 pasos temporales\n",
      "Convirgió en 3 pasos temporales\n",
      "Convirgió en 7 pasos temporales\n",
      "Convirgió en 1 pasos temporales\n",
      "Convirgió en 5 pasos temporales\n",
      "Convirgió en 5 pasos temporales\n",
      "Convirgió en 3 pasos temporales\n",
      "Convirgió en 2 pasos temporales\n",
      "Convirgió en 8 pasos temporales\n",
      "Convirgió en 2 pasos temporales\n",
      "Convirgió en 5 pasos temporales\n",
      "Convirgió en 2 pasos temporales\n",
      "Convirgió en 4 pasos temporales\n",
      "Convirgió en 1 pasos temporales\n",
      "Convirgió en 2 pasos temporales\n",
      "Convirgió en 2 pasos temporales\n",
      "Convirgió en 2 pasos temporales\n",
      "Convirgió en 3 pasos temporales\n",
      "Convirgió en 3 pasos temporales\n",
      "Convirgió en 9 pasos temporales\n",
      "Convirgió en 3 pasos temporales\n",
      "Convirgió en 2 pasos temporales\n",
      "Convirgió en 3 pasos temporales\n",
      "Convirgió en 7 pasos temporales\n",
      "Convirgió en 3 pasos temporales\n",
      "Convirgió en 3 pasos temporales\n",
      "Convirgió en 1 pasos temporales\n",
      "Convirgió en 2 pasos temporales\n",
      "Convirgió en 1 pasos temporales\n",
      "Convirgió en 3 pasos temporales\n",
      "Convirgió en 1 pasos temporales\n",
      "Convirgió en 1 pasos temporales\n",
      "Convirgió en 3 pasos temporales\n",
      "Convirgió en 2 pasos temporales\n",
      "Convirgió en 11 pasos temporales\n",
      "Convirgió en 1 pasos temporales\n",
      "Convirgió en 3 pasos temporales\n",
      "Convirgió en 1 pasos temporales\n",
      "Convirgió en 3 pasos temporales\n",
      "Convirgió en 1 pasos temporales\n",
      "Convirgió en 1 pasos temporales\n",
      "Convirgió en 1 pasos temporales\n",
      "Convirgió en 3 pasos temporales\n",
      "Convirgió en 1 pasos temporales\n",
      "Convirgió en 1 pasos temporales\n",
      "Convirgió en 1 pasos temporales\n",
      "Convirgió en 17 pasos temporales\n",
      "Convirgió en 1 pasos temporales\n",
      "Convirgió en 3 pasos temporales\n",
      "Convirgió en 10 pasos temporales\n",
      "Convirgió en 5 pasos temporales\n",
      "Convirgió en 1 pasos temporales\n",
      "Convirgió en 1 pasos temporales\n",
      "Convirgió en 1 pasos temporales\n",
      "Convirgió en 2 pasos temporales\n",
      "Convirgió en 1 pasos temporales\n",
      "Convirgió en 1 pasos temporales\n",
      "Convirgió en 2 pasos temporales\n",
      "Convirgió en 1 pasos temporales\n",
      "Convirgió en 2 pasos temporales\n",
      "Convirgió en 1 pasos temporales\n",
      "Cantidad promedio de pasos temporales para converger: 3.0714285714285716\n",
      "Mayor cantidad de pasos temporales para converger: 17\n"
     ]
    }
   ],
   "source": [
    "if (dinamica==\"secuencial\"):\n",
    "    overlaps = np.zeros(P)\n",
    "\n",
    "    #Para caracterizar la convergencia de la red\n",
    "    max = 0 #Máxima cantidad de pasos temporales para converger\n",
    "    acum = 0 #Acumulo para después hacer el promedio\n",
    "\n",
    "    for mu in range(P):\n",
    "        s = np.zeros(N, dtype='int')\n",
    "\n",
    "        convergencia = False #bandera\n",
    "\n",
    "        s_inicial = np.copy(x[mu])\n",
    "        s = np.copy(s_inicial)\n",
    "        \n",
    "        p = 0 #cantidad de pasos temporales\n",
    "        p_max = 500\n",
    "\n",
    "        while(not convergencia):\n",
    "            p += 1\n",
    "\n",
    "            #Guardo el estado antes de empezar a modificar las neuronas\n",
    "            s_prev = np.copy(s)\n",
    "\n",
    "            #Actualizo todas las neuronas, una a la vez\n",
    "            for i in range(N):\n",
    "                s[i] = np.sign(np.dot(w[i, :], s)).astype('int')\n",
    "\n",
    "\n",
    "            if(np.array_equal(s, s_prev)):\n",
    "                print(\"Convirgió en \" + str(p) + \" pasos temporales\")\n",
    "                convergencia = True\n",
    "                acum += p\n",
    "                if(p > max):\n",
    "                    max = p\n",
    "\n",
    "            if(p==p_max):\n",
    "                print(\"Llegué al límite - \" + str(p_max) + \" pasos temporales\")\n",
    "                convergencia = True\n",
    "\n",
    "\n",
    "\n",
    "        #Calculo el overlap\n",
    "        overlaps[mu] = np.dot(s_inicial, s)/N\n",
    "\n",
    "    print(\"Cantidad promedio de pasos temporales para converger: \" + str(acum/P))\n",
    "    print(\"Mayor cantidad de pasos temporales para converger: \" + str(max))"
   ]
  },
  {
   "cell_type": "code",
   "execution_count": 23,
   "metadata": {},
   "outputs": [
    {
     "data": {
      "image/png": "[encoded data removed]",
      "text/plain": [
       "<Figure size 640x480 with 1 Axes>"
      ]
     },
     "metadata": {},
     "output_type": "display_data"
    }
   ],
   "source": [
    "if (dinamica==\"secuencial\"):\n",
    "    mean_overlap = np.mean(overlaps)\n",
    "    std_deviation = np.std(overlaps)\n",
    "\n",
    "    #Histograma normalizado + valor medio y desviación estándar\n",
    "    plt.hist(overlaps, bins=20, color='blue', alpha=0.7, density=True)\n",
    "    plt.axvline(mean_overlap, color='red', linestyle='dashed', linewidth=0.5, label='Valor medio')\n",
    "    plt.axvline(mean_overlap + std_deviation, color='k', linestyle='dashed', linewidth=0.5, label='Desv. estándar')\n",
    "    plt.axvline(mean_overlap - std_deviation, color='k', linestyle='dashed', linewidth=0.5)\n",
    "    plt.legend()\n",
    "    plt.title(\"N = \" + str(N) + \" // α = \" + str(alfa))\n",
    "    plt.xlim(0, 1)\n",
    "    plt.xlabel('Overlap')\n",
    "    plt.ylabel('Probabilidad')\n",
    "    plt.savefig('Informe/1/histograma_'+str(N)+'_'+str(alfa)+'2.png')\n",
    "    plt.show()"
   ]
  },
  {
   "cell_type": "markdown",
   "metadata": {},
   "source": [
    "Guardo datos de overlap para analizar después"
   ]
  },
  {
   "cell_type": "code",
   "execution_count": 24,
   "metadata": {},
   "outputs": [],
   "source": [
    "if (dinamica==\"secuencial\"):\n",
    "    txt = \"1-overlaps.txt\"\n",
    "\n",
    "    with open(txt, \"a\") as file:\n",
    "        file.write(str(N) + \" \" + str(alfa) + \" \" + str(mean_overlap) + \" \" + str(std_deviation) + '\\n')"
   ]
  }
 ],
 "metadata": {
  "kernelspec": {
   "display_name": "base",
   "language": "python",
   "name": "python3"
  },
  "language_info": {
   "codemirror_mode": {
    "name": "ipython",
    "version": 3
   },
   "file_extension": ".py",
   "mimetype": "text/x-python",
   "name": "python",
   "nbconvert_exporter": "python",
   "pygments_lexer": "ipython3",
   "version": "3.11.5"
  }
 },
 "nbformat": 4,
 "nbformat_minor": 2
}
