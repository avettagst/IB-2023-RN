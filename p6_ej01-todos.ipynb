{
 "cells": [
  {
   "cell_type": "code",
   "execution_count": 4,
   "metadata": {},
   "outputs": [],
   "source": [
    "import numpy as np\n",
    "import matplotlib.pyplot as plt\n",
    "\n",
    "%matplotlib qt"
   ]
  },
  {
   "cell_type": "markdown",
   "metadata": {},
   "source": [
    "### Leo archivo con resultados de ej1.ipynb y ploteo"
   ]
  },
  {
   "cell_type": "code",
   "execution_count": 5,
   "metadata": {},
   "outputs": [],
   "source": [
    "txt = \"1-overlaps.txt\"\n",
    "f = open(txt, 'r')\n",
    "\n",
    "lines = f.readlines()\n",
    "lines = lines[1:] #elimino encabezado\n",
    "\n",
    "N = np.zeros(len(lines))\n",
    "alfa = np.zeros(len(lines))\n",
    "overlap = np.zeros(len(lines))\n",
    "ov_std = np.zeros(len(lines))\n",
    "\n",
    "for i in range(len(lines)):\n",
    "    values = lines[i].split(sep = ' ')\n",
    "    values = np.array(values)\n",
    "\n",
    "    N[i] = values[0]\n",
    "    alfa[i] = values[1]\n",
    "    overlap[i] = values[2]\n",
    "    ov_std[i] = values[3] #al final no lo usé\n",
    "\n",
    "plt.plot(alfa[0:4], overlap[0:4], label = \"N = 500\")\n",
    "plt.plot(alfa[4:8], overlap[4:8], label = \"N = 1000\")\n",
    "plt.plot(alfa[8:12], overlap[8:12], label = \"N = 2000\")\n",
    "plt.plot(alfa[12:16], overlap[12:16], label = \"N = 4000\")\n",
    "plt.legend()\n",
    "plt.xlabel(\"P/N\")\n",
    "plt.ylabel(\"Overlap\")\n",
    "plt.show()"
   ]
  }
 ],
 "metadata": {
  "kernelspec": {
   "display_name": "base",
   "language": "python",
   "name": "python3"
  },
  "language_info": {
   "codemirror_mode": {
    "name": "ipython",
    "version": 3
   },
   "file_extension": ".py",
   "mimetype": "text/x-python",
   "name": "python",
   "nbconvert_exporter": "python",
   "pygments_lexer": "ipython3",
   "version": "3.11.5"
  }
 },
 "nbformat": 4,
 "nbformat_minor": 2
}
