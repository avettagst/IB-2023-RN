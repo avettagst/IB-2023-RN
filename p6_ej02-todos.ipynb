{
 "cells": [
  {
   "cell_type": "code",
   "execution_count": 3,
   "metadata": {},
   "outputs": [],
   "source": [
    "import numpy as np\n",
    "import matplotlib.pyplot as plt\n",
    "\n",
    "%matplotlib qt"
   ]
  },
  {
   "cell_type": "markdown",
   "metadata": {},
   "source": [
    "### Leo archivo con resultados de ej2.ipynb y ploteo"
   ]
  },
  {
   "cell_type": "code",
   "execution_count": 4,
   "metadata": {},
   "outputs": [],
   "source": [
    "txt = \"2-overlaps-N4000.txt\"\n",
    "f = open(txt, 'r')\n",
    "\n",
    "lines = f.readlines()\n",
    "lines = lines[1:] #elimino encabezado\n",
    "\n",
    "T = np.zeros(len(lines))\n",
    "overlap = np.zeros(len(lines))\n",
    "ov_std = np.zeros(len(lines))\n",
    "\n",
    "for i in range(len(lines)):\n",
    "    values = lines[i].split(sep = ' ')\n",
    "    values = np.array(values)\n",
    "\n",
    "    T[i] = values[0]\n",
    "    overlap[i] = values[1]\n",
    "    ov_std[i] = values[2]\n",
    "\n",
    "plt.errorbar(T, overlap, yerr=ov_std, c = 'm')\n",
    "plt.ylim(0)\n",
    "plt.xlabel(\"Temperatura\")\n",
    "plt.ylabel(\"Overlap\")\n",
    "plt.show()"
   ]
  }
 ],
 "metadata": {
  "kernelspec": {
   "display_name": "base",
   "language": "python",
   "name": "python3"
  },
  "language_info": {
   "codemirror_mode": {
    "name": "ipython",
    "version": 3
   },
   "file_extension": ".py",
   "mimetype": "text/x-python",
   "name": "python",
   "nbconvert_exporter": "python",
   "pygments_lexer": "ipython3",
   "version": "3.11.5"
  }
 },
 "nbformat": 4,
 "nbformat_minor": 2
}
