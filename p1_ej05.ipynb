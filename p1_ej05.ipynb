{
 "cells": [
  {
   "cell_type": "code",
   "execution_count": 1,
   "metadata": {},
   "outputs": [],
   "source": [
    "import numpy as np\n",
    "import matplotlib.pyplot as plt\n",
    "from scipy.integrate import solve_ivp\n",
    "from scipy.signal import find_peaks"
   ]
  },
  {
   "cell_type": "markdown",
   "metadata": {},
   "source": [
    "# MODELO COMPLETO"
   ]
  },
  {
   "cell_type": "markdown",
   "metadata": {},
   "source": [
    "### Constantes"
   ]
  },
  {
   "cell_type": "code",
   "execution_count": 2,
   "metadata": {},
   "outputs": [],
   "source": [
    "#Conductividades: se expresan en [mS/cm^2], pero tras normalizar la ecuación quedan adimensionales\n",
    "g_Na = 120\n",
    "g_K = 36 \n",
    "g_Cl = 0.3\n",
    "\n",
    "\n",
    "#Voltajes de inversion [mV]\n",
    "V_Na = 50\n",
    "V_K = -77\n",
    "V_Cl = -54.4\n",
    "\n",
    "#Capacitancia (C): se expresa en [uF/cm^2], pero tras normalizar la ecuación queda en [ms] y vale 1, por lo que ni se incluye en la ecuación"
   ]
  },
  {
   "cell_type": "markdown",
   "metadata": {},
   "source": [
    "### Funciones"
   ]
  },
  {
   "cell_type": "code",
   "execution_count": 3,
   "metadata": {},
   "outputs": [],
   "source": [
    "#Funciones auxiliares\n",
    "\n",
    "def inf_x(a, b):\n",
    "    '''\n",
    "    Devuelve el valor para t = inf en función de los coeficientes a y b\n",
    "    '''\n",
    "    inf = a/(a+b)\n",
    "    return inf\n",
    "\n",
    "def tau_x(a, b):\n",
    "    '''\n",
    "    Devuelve el parámetro tau en función de los coeficientes a y b\n",
    "    '''\n",
    "    tau = 1/(a+b)\n",
    "    return tau\n",
    "\n",
    "#Ecuaciones diferenciales del modelo\n",
    "def derivada(t, u):\n",
    "    '''\n",
    "    Recibe el parámetro I y los valores actuales del vector de variables u = (v, m, h, n)\n",
    "    y devuelve la derivada de cada una de dichas variables\n",
    "    '''\n",
    "    v = u[0]\n",
    "    m = u[1]\n",
    "    h = u[2]\n",
    "    n = u[3]\n",
    "\n",
    "    I = 0\n",
    "    if(t >= 40 and t <=44):\n",
    "        I = 4\n",
    "\n",
    "\n",
    "    #v\n",
    "    dv = I - g_Na*(m**3)*h*(v-V_Na) - g_K*(n**4)*(v-V_K) - g_Cl*(v-V_Cl)\n",
    "\n",
    "    #m\n",
    "    a_m = 0.1*(v+40)/(1-np.exp((-v-40)/10))\n",
    "    b_m = 4*np.exp((-v-65)/18)\n",
    "    inf_m = inf_x(a_m, b_m)\n",
    "    tau_m = tau_x(a_m, b_m)\n",
    "    dm = (inf_m - m)/tau_m\n",
    "\n",
    "    #h\n",
    "    a_h = 0.07*np.exp((-v-65)/20)\n",
    "    b_h = 1/(1+np.exp((-v-35)/10))\n",
    "    inf_h = inf_x(a_h, b_h)\n",
    "    tau_h = tau_x(a_h, b_h)\n",
    "    dh = (inf_h - h)/tau_h\n",
    "\n",
    "    #n\n",
    "    a_n = 0.01*(v+55)/(1-np.exp((-v-55)/10))\n",
    "    b_n = 0.125*np.exp((-v-65)/80)\n",
    "    inf_n = inf_x(a_n, b_n)\n",
    "    tau_n = tau_x(a_n, b_n)\n",
    "    dn = (inf_n - n)/tau_n\n",
    "\n",
    "    du = [dv, dm, dh, dn]\n",
    "\n",
    "    return du"
   ]
  },
  {
   "cell_type": "markdown",
   "metadata": {},
   "source": [
    "### Valores iniciales (para el primer valor de corriente)"
   ]
  },
  {
   "cell_type": "code",
   "execution_count": 4,
   "metadata": {},
   "outputs": [],
   "source": [
    "v0 = -60 #[mV]\n",
    "\n",
    "a_m0 = 0.1*(v0+40)/(1-np.exp((-v0-40)/10))\n",
    "b_m0 = 4*np.exp((-v0-65)/18)\n",
    "m0 = inf_x(a_m0, b_m0)\n",
    "\n",
    "a_h0 = 0.07*np.exp((-v0-65)/20)\n",
    "b_h0 = 1/(1+np.exp((-v0-35)/10))\n",
    "h0 = inf_x(a_h0, b_h0)\n",
    "\n",
    "a_n0 = 0.01*(v0+55)/(1-np.exp((-v0-55)/10))\n",
    "b_n0 = 0.125*np.exp((-v0-65)/80)\n",
    "n0 = inf_x(a_n0, b_n0)"
   ]
  },
  {
   "cell_type": "markdown",
   "metadata": {},
   "source": [
    "### Tiempos de la simulación"
   ]
  },
  {
   "cell_type": "code",
   "execution_count": 5,
   "metadata": {},
   "outputs": [],
   "source": [
    "#Tiempos\n",
    "t_ini = 0   #[ms]\n",
    "t_fin = 100 #[ms]"
   ]
  },
  {
   "cell_type": "markdown",
   "metadata": {},
   "source": [
    "### Solución numérica"
   ]
  },
  {
   "cell_type": "code",
   "execution_count": 6,
   "metadata": {},
   "outputs": [
    {
     "data": {
      "image/png": "[encoded data removed]",
      "text/plain": [
       "<Figure size 640x480 with 1 Axes>"
      ]
     },
     "metadata": {},
     "output_type": "display_data"
    }
   ],
   "source": [
    "result = solve_ivp(lambda t, u: derivada(t, u), [t_ini, t_fin], [v0, m0, h0, n0])\n",
    "\n",
    "#Resultados de la solución numérica\n",
    "t = result.t\n",
    "v = result.y[0]\n",
    "m = result.y[1]\n",
    "h = result.y[2]\n",
    "n = result.y[3]\n",
    "\n",
    "\n",
    "#Actualizo la semilla para la próxima simulación\n",
    "v0 = v[-1]\n",
    "m0 = m[-1]\n",
    "h0 = h[-1]\n",
    "n0 = n[-1]\n",
    "\n",
    "\n",
    "plt.plot(t, v)\n",
    "plt.xlabel(\"Tiempo [ms]\")\n",
    "plt.ylabel(\"Tensión [mV]\")\n",
    "plt.axvline(40, ls = '--', lw = '0.6', c = 'k')\n",
    "plt.axvline(44, ls = '--', lw = '0.6', c = 'k')\n",
    "plt.show()"
   ]
  }
 ],
 "metadata": {
  "kernelspec": {
   "display_name": "base",
   "language": "python",
   "name": "python3"
  },
  "language_info": {
   "codemirror_mode": {
    "name": "ipython",
    "version": 3
   },
   "file_extension": ".py",
   "mimetype": "text/x-python",
   "name": "python",
   "nbconvert_exporter": "python",
   "pygments_lexer": "ipython3",
   "version": "3.10.9"
  },
  "orig_nbformat": 4
 },
 "nbformat": 4,
 "nbformat_minor": 2
}
