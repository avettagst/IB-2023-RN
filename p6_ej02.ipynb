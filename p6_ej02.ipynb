{
 "cells": [
  {
   "cell_type": "code",
   "execution_count": 1,
   "metadata": {},
   "outputs": [],
   "source": [
    "import numpy as np\n",
    "import matplotlib.pyplot as plt"
   ]
  },
  {
   "cell_type": "code",
   "execution_count": 2,
   "metadata": {},
   "outputs": [],
   "source": [
    "def hopfield(h, beta):\n",
    "    '''\n",
    "    Recibe el estado h y el parámetro beta y devuelve 1 o -1 según la distribución de probabilidad propuesta\n",
    "    para el modelo de Hopfield con ruido\n",
    "    '''\n",
    "    pr1p = np.exp(beta*h)/(np.exp(beta*h) + np.exp(-beta*h)) #probabilidad de +1\n",
    "    \n",
    "    if(np.random.rand() <= pr1p):\n",
    "        s = 1\n",
    "    else:\n",
    "        s = -1\n",
    "\n",
    "    return s"
   ]
  },
  {
   "cell_type": "markdown",
   "metadata": {},
   "source": [
    "#### Entradas"
   ]
  },
  {
   "cell_type": "code",
   "execution_count": 3,
   "metadata": {},
   "outputs": [],
   "source": [
    "N = 4000 #Cantidad de neuronas #500, 1000, 2000, 4000\n",
    "alfa = 0.1\n",
    "P = int(N*alfa) #Cantidad de patrones\n",
    "\n",
    "T = 0.1 #\"Temperatura\"\n",
    "beta = 1/T #Parámetro beta\n",
    "\n",
    "x = np.ones(shape=(P,N), dtype='int')\n",
    "\n",
    "for i in range(P):\n",
    "    for j in range(N):\n",
    "        if(np.random.randint(0, 2) < 1):\n",
    "            x[i][j] = -1"
   ]
  },
  {
   "cell_type": "markdown",
   "metadata": {},
   "source": [
    "#### Conexiones"
   ]
  },
  {
   "cell_type": "code",
   "execution_count": 4,
   "metadata": {},
   "outputs": [],
   "source": [
    "w = np.zeros(shape=(N,N))\n",
    "\n",
    "#Sumamos\n",
    "for mu in range(P):\n",
    "    w += np.outer(x[mu], x[mu])\n",
    "\n",
    "#Normalizamos\n",
    "w = w/N\n",
    "\n",
    "#Eliminamos las \"autoconexiones\"\n",
    "for i in range(N):\n",
    "    w[i][i] = 0"
   ]
  },
  {
   "cell_type": "markdown",
   "metadata": {},
   "source": [
    "#### Dinámica secuencial"
   ]
  },
  {
   "cell_type": "code",
   "execution_count": 5,
   "metadata": {},
   "outputs": [],
   "source": [
    "reps = 10 #Cantidad de veces que repito el ciclo para promediar sobre la dinámica\n",
    "overlaps = np.zeros(P)\n",
    "\n",
    "\n",
    "for mu in range(P):\n",
    "\n",
    "    s_inicial = np.copy(x[mu])\n",
    "    s = np.copy(s_inicial)\n",
    "    s_promedio = np.zeros(N) #acumulo para luego hacer el promedio\n",
    "\n",
    "    for n in range(reps):\n",
    "\n",
    "        for i in range(N):\n",
    "            s[i] = hopfield(np.dot(w[i, :], s), beta)\n",
    "        \n",
    "        #Acumulo\n",
    "        s_promedio += s\n",
    "\n",
    "    #Promedio\n",
    "    s_promedio = s_promedio/reps \n",
    "\n",
    "    #Calculo el overlap\n",
    "    overlaps[mu] = np.dot(s_inicial, s_promedio)/N   "
   ]
  },
  {
   "cell_type": "markdown",
   "metadata": {},
   "source": [
    "Guardo datos de overlap para analizar después"
   ]
  },
  {
   "cell_type": "code",
   "execution_count": null,
   "metadata": {},
   "outputs": [],
   "source": [
    "mean_overlap = np.mean(overlaps)\n",
    "std_deviation = np.std(overlaps)\n",
    "\n",
    "txt = \"2-overlaps-N6000.txt\"\n",
    "\n",
    "with open(txt, \"a\") as file:\n",
    "    #file.write(\"T overlap_mean overlap_std\\n\")\n",
    "    file.write(str(T) + \" \" + str(mean_overlap) + \" \" + str(std_deviation) + '\\n')"
   ]
  }
 ],
 "metadata": {
  "kernelspec": {
   "display_name": "base",
   "language": "python",
   "name": "python3"
  },
  "language_info": {
   "codemirror_mode": {
    "name": "ipython",
    "version": 3
   },
   "file_extension": ".py",
   "mimetype": "text/x-python",
   "name": "python",
   "nbconvert_exporter": "python",
   "pygments_lexer": "ipython3",
   "version": "3.11.5"
  }
 },
 "nbformat": 4,
 "nbformat_minor": 2
}
