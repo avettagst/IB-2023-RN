{
 "cells": [
  {
   "cell_type": "code",
   "execution_count": 2,
   "metadata": {},
   "outputs": [],
   "source": [
    "import numpy as np\n",
    "import matplotlib.pyplot as plt\n",
    "\n",
    "%matplotlib qt"
   ]
  },
  {
   "cell_type": "markdown",
   "metadata": {},
   "source": [
    "#### Regla de Oja"
   ]
  },
  {
   "cell_type": "code",
   "execution_count": 3,
   "metadata": {},
   "outputs": [],
   "source": [
    "def oja(lr, x, w, v):\n",
    "    '''\n",
    "    lr: learning rate\n",
    "    x: vector de entrada\n",
    "    w: vector de pesos\n",
    "    v: salida\n",
    "\n",
    "    Devuelve deltaW, vector con la misma forma que w y x\n",
    "    '''\n",
    "    \n",
    "    deltaW = lr*v*(x - v*w)\n",
    "    return deltaW\n",
    "    "
   ]
  },
  {
   "cell_type": "markdown",
   "metadata": {},
   "source": [
    "#### Datos y parámetros"
   ]
  },
  {
   "cell_type": "code",
   "execution_count": 4,
   "metadata": {},
   "outputs": [
    {
     "name": "stdout",
     "output_type": "stream",
     "text": [
      "[[1.309 0.309 0.309 0.309]\n",
      " [0.309 1.309 0.309 0.309]\n",
      " [0.309 0.309 1.309 0.309]\n",
      " [0.309 0.309 0.309 1.309]]\n"
     ]
    }
   ],
   "source": [
    "N = 4 #Dimension de la entrada\n",
    "lr = 0.0005 #Learning rate\n",
    "\n",
    "#Matriz de covarianza\n",
    "c = np.ones(shape=(N, N), dtype=np.float32)\n",
    "\n",
    "for i in range(N):\n",
    "    c[i,i] = 2\n",
    "\n",
    "#Su raíz cuadrada\n",
    "c_sqrt = np.ones(shape=(N, N), dtype=np.float32)*0.309\n",
    "\n",
    "for i in range(N):\n",
    "    c_sqrt[i,i] = 1.309\n",
    "\n",
    "print(c_sqrt)"
   ]
  },
  {
   "cell_type": "markdown",
   "metadata": {},
   "source": [
    "#### Inicializacion pesos"
   ]
  },
  {
   "cell_type": "code",
   "execution_count": 5,
   "metadata": {},
   "outputs": [],
   "source": [
    "# seed=2                           \n",
    "# np.random.seed(seed)\n",
    "\n",
    "w = np.random.normal(loc=0, scale=0.1, size=(4,)) #Capa 2 afectada por capa 1"
   ]
  },
  {
   "cell_type": "markdown",
   "metadata": {},
   "source": [
    "#### Verifico que el procedimiento indicado da entradas con la correlación deseada"
   ]
  },
  {
   "cell_type": "code",
   "execution_count": 6,
   "metadata": {},
   "outputs": [
    {
     "name": "stdout",
     "output_type": "stream",
     "text": [
      "Valores medios\n",
      "[0.0050936  0.00461623 0.00547546 0.00236551]\n",
      "Matriz de covarianza\n",
      "[[1.9996043  1.0116847  0.9935702  1.0045497 ]\n",
      " [1.0116847  2.007369   0.99794227 1.0104936 ]\n",
      " [0.9935702  0.99794227 1.9935169  0.99317455]\n",
      " [1.0045497  1.0104936  0.99317455 2.003756  ]]\n"
     ]
    }
   ],
   "source": [
    "K = 50000\n",
    "z = np.zeros(shape=(K,N), dtype=np.float32)\n",
    "\n",
    "\n",
    "for i in range(K):\n",
    "    x = np.random.normal(loc=0, scale=1, size=(N,)) #Importante: varianza unitaria\n",
    "    z[i,:] = np.dot(c_sqrt, x)\n",
    "\n",
    "print(\"Valores medios\")\n",
    "print(np.mean(z, axis=0))\n",
    "\n",
    "#Matriz de covarianza\n",
    "c = np.zeros(shape=(N, N), dtype=np.float32)\n",
    "\n",
    "for i in range(N):\n",
    "    for j in range(N):\n",
    "        c[i, j] = np.mean(z[:, i]* z[:, j], axis = 0)\n",
    "\n",
    "print(\"Matriz de covarianza\")      \n",
    "print(c)"
   ]
  },
  {
   "cell_type": "markdown",
   "metadata": {},
   "source": [
    "#### Loop de aprendizaje"
   ]
  },
  {
   "cell_type": "code",
   "execution_count": 7,
   "metadata": {},
   "outputs": [],
   "source": [
    "t = 50000 #Cantidad de entradas\n",
    "wt = np.zeros(shape = (4,t))\n",
    "\n",
    "for i in range(t):\n",
    "    x = np.random.normal(loc=0, scale=1, size=(N,)) #Vector aleatorio  \n",
    "    x_in  = np.dot(c_sqrt, x) #Entrada correlacionada\n",
    "    v = np.dot(w, x_in) #Salida\n",
    "    deltaW = oja(lr, x_in, w, v)\n",
    "    w += deltaW\n",
    "    wt[:,i] = w\n",
    "    "
   ]
  },
  {
   "cell_type": "code",
   "execution_count": 8,
   "metadata": {},
   "outputs": [],
   "source": [
    "for i in range(N):\n",
    "    plt.plot(wt[i], label = \"W_\" + str(i+1))\n",
    "plt.xlabel(\"Entrada\")\n",
    "plt.ylabel(\"Pesos\")\n",
    "plt.legend()\n",
    "plt.show()"
   ]
  },
  {
   "cell_type": "markdown",
   "metadata": {},
   "source": [
    "#### Autovalores y autovectores de C"
   ]
  },
  {
   "cell_type": "code",
   "execution_count": 9,
   "metadata": {},
   "outputs": [
    {
     "name": "stdout",
     "output_type": "stream",
     "text": [
      "[5.0068493 1.0081568 0.9915527 0.9976878]\n",
      "[[-0.5003284  -0.24121091  0.61228615 -0.56266725]\n",
      " [-0.5025799  -0.25838047 -0.7742697  -0.2848849 ]\n",
      " [-0.49642333  0.8646689   0.00546358  0.07669258]\n",
      " [-0.5006484  -0.35693774  0.15994456  0.77224636]]\n"
     ]
    }
   ],
   "source": [
    "values, vectors = np.linalg.eig(c)\n",
    "\n",
    "print(values)\n",
    "print(vectors)\n"
   ]
  }
 ],
 "metadata": {
  "kernelspec": {
   "display_name": "base",
   "language": "python",
   "name": "python3"
  },
  "language_info": {
   "codemirror_mode": {
    "name": "ipython",
    "version": 3
   },
   "file_extension": ".py",
   "mimetype": "text/x-python",
   "name": "python",
   "nbconvert_exporter": "python",
   "pygments_lexer": "ipython3",
   "version": "3.11.5"
  }
 },
 "nbformat": 4,
 "nbformat_minor": 2
}
